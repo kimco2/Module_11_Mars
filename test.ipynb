{
 "cells": [
  {
   "cell_type": "code",
   "execution_count": 1,
   "metadata": {},
   "outputs": [],
   "source": [
    "# Import relevant libraries\n",
    "from splinter import Browser\n",
    "from bs4 import BeautifulSoup as soup\n",
    "import matplotlib.pyplot as plt\n",
    "import pandas as pd\n",
    "from selenium.webdriver.chrome.service import Service\n",
    "import os"
   ]
  },
  {
   "cell_type": "code",
   "execution_count": 2,
   "metadata": {},
   "outputs": [],
   "source": [
    "# Set up Splinter\n",
    "driver_path = os.path.join(os.path.expanduser(\"~\"),\"webdrivers\",\"chromedriver.exe\")\n",
    "browser = Browser('chrome',service=Service(executable_path=driver_path))"
   ]
  },
  {
   "cell_type": "code",
   "execution_count": 3,
   "metadata": {},
   "outputs": [],
   "source": [
    "# Visit the website\n",
    "# https://static.bc-edx.com/data/web/mars_facts/temperature.html\n",
    "\n",
    "url = 'https://static.bc-edx.com/data/web/mars_facts/temperature.html'\n",
    "browser.visit(url)"
   ]
  },
  {
   "cell_type": "code",
   "execution_count": 4,
   "metadata": {},
   "outputs": [],
   "source": [
    "# Create a Beautiful Soup Object\n",
    "html = browser.html\n",
    "table = soup(html, 'html.parser')"
   ]
  },
  {
   "cell_type": "code",
   "execution_count": 12,
   "metadata": {},
   "outputs": [],
   "source": [
    "# Extract all rows of data\n",
    "rows = table.find_all(class_='table')"
   ]
  },
  {
   "cell_type": "code",
   "execution_count": null,
   "metadata": {},
   "outputs": [],
   "source": [
    "# Create an empty list\n",
    "list_of_rows = []\n",
    "\n",
    "# Loop through the scraped data to create a list of rows\n",
    "for row in rows:\n",
    "    column_heading = row.find_all('td')\n",
    "    row = [col.text for col in column_heading]\n",
    "    list_of_rows.append(row)\n",
    "    \n",
    "    # column_heading = [x.text.strip() for x in column_heading]\n",
    "    # heading.append(column_heading)\n",
    "      \n",
    "    # columns = row.find_all(class_='data-row')\n",
    "    # columns = [x.text.strip() for x in columns]\n",
    "    # data.append(columns)"
   ]
  },
  {
   "cell_type": "code",
   "execution_count": 15,
   "metadata": {},
   "outputs": [
    {
     "data": {
      "text/plain": [
       "[['id', 'terrestrial_date', 'sol', 'ls', 'month', 'min_temp', 'pressure']]"
      ]
     },
     "execution_count": 15,
     "metadata": {},
     "output_type": "execute_result"
    }
   ],
   "source": [
    "row_headers = []\n",
    "for row in rows:\n",
    "    header = row.find_all('th')\n",
    "    header = [x.text for x in header]\n",
    "    row_headers.append(header)\n",
    "\n",
    "row_headers\n",
    "    "
   ]
  },
  {
   "cell_type": "code",
   "execution_count": null,
   "metadata": {},
   "outputs": [],
   "source": [
    "\n",
    "    # data.append([x for x in columns if x])\n",
    "    # heading.append(column_heading)\n"
   ]
  },
  {
   "cell_type": "code",
   "execution_count": 22,
   "metadata": {},
   "outputs": [
    {
     "ename": "TypeError",
     "evalue": "'builtin_function_or_method' object is not subscriptable",
     "output_type": "error",
     "traceback": [
      "\u001b[1;31m---------------------------------------------------------------------------\u001b[0m",
      "\u001b[1;31mTypeError\u001b[0m                                 Traceback (most recent call last)",
      "\u001b[1;32m~\\AppData\\Local\\Temp\\ipykernel_14100\\3269266783.py\u001b[0m in \u001b[0;36m<module>\u001b[1;34m\u001b[0m\n\u001b[0;32m      3\u001b[0m     \u001b[0mcolumn_data\u001b[0m \u001b[1;33m=\u001b[0m \u001b[0mrow\u001b[0m\u001b[1;33m.\u001b[0m\u001b[0mfind_all\u001b[0m\u001b[1;33m(\u001b[0m\u001b[0mclass_\u001b[0m\u001b[1;33m=\u001b[0m\u001b[1;34m'data-row'\u001b[0m\u001b[1;33m)\u001b[0m\u001b[1;33m\u001b[0m\u001b[1;33m\u001b[0m\u001b[0m\n\u001b[0;32m      4\u001b[0m     \u001b[0mcolumn_data\u001b[0m \u001b[1;33m=\u001b[0m \u001b[1;33m[\u001b[0m\u001b[0mx\u001b[0m\u001b[1;33m.\u001b[0m\u001b[0mtext\u001b[0m \u001b[1;32mfor\u001b[0m \u001b[0mx\u001b[0m \u001b[1;32min\u001b[0m \u001b[0mcolumn_data\u001b[0m\u001b[1;33m]\u001b[0m\u001b[1;33m\u001b[0m\u001b[1;33m\u001b[0m\u001b[0m\n\u001b[1;32m----> 5\u001b[1;33m     \u001b[0mdata\u001b[0m\u001b[1;33m.\u001b[0m\u001b[0mappend\u001b[0m\u001b[1;33m[\u001b[0m\u001b[0mcolumn_data\u001b[0m\u001b[1;33m]\u001b[0m\u001b[1;33m\u001b[0m\u001b[1;33m\u001b[0m\u001b[0m\n\u001b[0m\u001b[0;32m      6\u001b[0m \u001b[1;33m\u001b[0m\u001b[0m\n\u001b[0;32m      7\u001b[0m \u001b[0mdata\u001b[0m\u001b[1;33m\u001b[0m\u001b[1;33m\u001b[0m\u001b[0m\n",
      "\u001b[1;31mTypeError\u001b[0m: 'builtin_function_or_method' object is not subscriptable"
     ]
    }
   ],
   "source": [
    "data = []\n",
    "for row in rows:\n",
    "    column_data = row.find_all(class_='data-row')\n",
    "    column_data = [x.text for x in column_data]\n",
    "    data.append(column_data)\n",
    "\n",
    "data\n"
   ]
  },
  {
   "cell_type": "code",
   "execution_count": null,
   "metadata": {},
   "outputs": [],
   "source": [
    "  columns = row.find_all('tbody')\n",
    "    id = columns[0].text\n",
    "    print(id)"
   ]
  },
  {
   "cell_type": "code",
   "execution_count": null,
   "metadata": {},
   "outputs": [],
   "source": [
    "# Extract all rows of data\n",
    "rows = table.find_all(class_='table')\n",
    "#th - headings\n",
    "#td class = \"data-row\"\n",
    "\n",
    "data = []\n",
    "\n",
    "for row in rows:\n",
    "    cols = row.find_all(class_='data-row')\n",
    "    cols = [x.text.strip() for x in cols]\n",
    "    data.append([x for x in cols if x])\n"
   ]
  },
  {
   "cell_type": "code",
   "execution_count": null,
   "metadata": {},
   "outputs": [],
   "source": [
    "list = []\n",
    "for row in rows:\n",
    "    columns = row.find_all('td')\n",
    "    id = columns[0].text\n",
    "    terrestrial_date = columns[1].text\n",
    "    sol = columns[2].text\n",
    "    Is = columns[3].text\n",
    "    month = columns[4].text\n",
    "    min_temp = columns[5].text\n",
    "    pressure = columns[6].text\n",
    "    list.append(row)\n",
    "print(list)"
   ]
  },
  {
   "cell_type": "code",
   "execution_count": null,
   "metadata": {},
   "outputs": [],
   "source": [
    "for row in rows:\n",
    "    columns = row.find_all('td')\n",
    "    \n",
    "    if(columns != []):\n",
    "        id = columns[0].text\n",
    "        terrestrial_date = columns[1].text\n",
    "        sol = columns[2].text\n",
    "        Is = columns[3].text\n",
    "        month = columns[4].text\n",
    "        min_temp = columns[5].text\n",
    "        pressure = columns[6].text\n",
    "        "
   ]
  },
  {
   "cell_type": "code",
   "execution_count": null,
   "metadata": {},
   "outputs": [],
   "source": [
    "for row in rows:\n",
    "    columns = row.find_all('tr')\n",
    "    id = columns[0].text\n",
    "    print(id)"
   ]
  },
  {
   "cell_type": "code",
   "execution_count": null,
   "metadata": {},
   "outputs": [],
   "source": [
    "# code from part 2"
   ]
  },
  {
   "cell_type": "code",
   "execution_count": null,
   "metadata": {},
   "outputs": [],
   "source": [
    "x_axis = mars_temp['terrestrial_date']\n",
    "data = mars_temp['ls']\n",
    "\n",
    "# data = mars_temp['terrestrial_date']\n",
    "# x_axis = mars_temp['ls']\n",
    "\n",
    "plt.scatter(x_axis, data, marker=\"o\", facecolors=\"lightskyblue\", edgecolors=\"blue\", alpha=0.75)\n",
    "plt.xlabel(\"terrestrial_date\")\n",
    "plt.ylabel(\"solar longitude\")\n",
    "\n",
    "\n",
    "# QUESTION - are these on the right axis?\n",
    "# Question - how do i cacluate difference from peak to peak?\n",
    "# QUESTION - how am I meant to visually estimate the duration in earth days?\n"
   ]
  },
  {
   "cell_type": "code",
   "execution_count": null,
   "metadata": {},
   "outputs": [],
   "source": [
    "# code removed from part 1"
   ]
  },
  {
   "cell_type": "code",
   "execution_count": null,
   "metadata": {},
   "outputs": [],
   "source": [
    "# # Loop through the text elements\n",
    "# for elem in text_elements:\n",
    "#     news_article = {}\n",
    "\n",
    "#     # Extract the title and preview text from the elements\n",
    "#     title = elem.find(class_='content_title').text\n",
    "#     preview = elem.find(class_='article_teaser_body').text.strip()\n",
    "\n",
    "#     # Store each title and preview pair in a dictionary\n",
    "#     news_article[title] = preview\n",
    "\n",
    "#     # Add the dictionary to the list\n",
    "#     mars_news_list.append(news_article)\n",
    "\n",
    "    # QUESTION - they had 'title' and 'preview' showng in their example - is this required?  If so how do you do that?\n",
    "    # QUESTIOn I'm getting u2019 and other bits coming up where there should be a '\n",
    "    # QUESTION - should we do it for all pages or just the first page?"
   ]
  },
  {
   "cell_type": "code",
   "execution_count": null,
   "metadata": {},
   "outputs": [],
   "source": [
    "\n",
    "mars_temp['min_temp'].plot(figsize=(8,6))\n",
    "set_xlabel(\"days\")\n",
    "plt.ylabel(\"minimum temperature (in Celsius)\")"
   ]
  },
  {
   "cell_type": "code",
   "execution_count": null,
   "metadata": {},
   "outputs": [],
   "source": [
    "mport numpy as np\n",
    "temp = mars_temp['min_temp']\n",
    "plt.figure(figsize=(10,6))\n",
    "plt.plot(temp)\n",
    "plt.ylabel(\"minimum temperature (in Celsius)\")\n",
    "plt.xticks(np.arange(0, 2000, 100));"
   ]
  },
  {
   "cell_type": "code",
   "execution_count": null,
   "metadata": {},
   "outputs": [],
   "source": [
    "# 5. How many terrestrial (earth) days are there in a Martian year?\n",
    "\n",
    "# Consider how many days elapse on Earth in the time that Mars circles the Sun once.\n",
    "# Visually estimate the result by plotting the daily minimum temperature.\n",
    "\n",
    "x_axis = mars_temp['terrestrial_date']\n",
    "data = mars_temp['min_temp']\n",
    "\n",
    "plt.scatter(x_axis, data, marker=\"o\", facecolors=\"lightskyblue\", edgecolors=\"blue\", alpha=0.75)\n",
    "plt.xlabel(\"terrestrial date\")\n",
    "plt.ylabel(\"minimum temperature (in Celsius)\");\n",
    "\n",
    "# QUESTION - how am I meant to visually estimate the duration in earth days?\n"
   ]
  },
  {
   "cell_type": "code",
   "execution_count": null,
   "metadata": {},
   "outputs": [],
   "source": [
    "mars_temp['min_temp'].plot()"
   ]
  },
  {
   "cell_type": "code",
   "execution_count": null,
   "metadata": {},
   "outputs": [],
   "source": [
    "from datetime import datetime\n",
    "date_1 = peaks[peaks['terrestrial_date']=='2013-07-31']\n",
    "date_2 = peaks.loc[peaks['terrestrial_date']=='2015-06-18']\n",
    "# date_3 = peaks.loc[peaks['terrestrial_date']=='2017-05-05']\n",
    "\n",
    "diff = date_1['terrestrial_date'] - date_2['terrestrial_date']\n",
    "diff\n",
    "\n",
    "# day = datetime.strptime(date_1, \"%Y-%m-%d\")\n",
    "# day.days\n",
    "\n",
    "# difference = date_2-date_1\n",
    "# difference.dt.days"
   ]
  }
 ],
 "metadata": {
  "kernelspec": {
   "display_name": "PythonData",
   "language": "python",
   "name": "python3"
  },
  "language_info": {
   "codemirror_mode": {
    "name": "ipython",
    "version": 3
   },
   "file_extension": ".py",
   "mimetype": "text/x-python",
   "name": "python",
   "nbconvert_exporter": "python",
   "pygments_lexer": "ipython3",
   "version": "3.7.7"
  },
  "orig_nbformat": 4,
  "vscode": {
   "interpreter": {
    "hash": "36caff6c9c02ddf9c80bf3a47b52dcc003663f4f02b1c64a29eab689b8ef0ba0"
   }
  }
 },
 "nbformat": 4,
 "nbformat_minor": 2
}
