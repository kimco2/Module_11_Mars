{
 "cells": [
  {
   "cell_type": "code",
   "execution_count": 47,
   "metadata": {},
   "outputs": [],
   "source": [
    "from splinter import Browser\n",
    "from bs4 import BeautifulSoup as soup\n",
    "from selenium.webdriver.chrome.service import Service\n",
    "import os\n",
    "import json"
   ]
  },
  {
   "cell_type": "code",
   "execution_count": 48,
   "metadata": {},
   "outputs": [],
   "source": [
    "# Set up Splinter\n",
    "driver_path = os.path.join(os.path.expanduser(\"~\"),\"webdrivers\",\"chromedriver.exe\")\n",
    "browser = Browser('chrome',service=Service(executable_path=driver_path))"
   ]
  },
  {
   "cell_type": "code",
   "execution_count": 49,
   "metadata": {},
   "outputs": [],
   "source": [
    "# Visit the Mars News site\n",
    "url = 'https://static.bc-edx.com/data/web/mars_news/index.html'\n",
    "browser.visit(url)"
   ]
  },
  {
   "cell_type": "code",
   "execution_count": 50,
   "metadata": {},
   "outputs": [],
   "source": [
    "# Parse the website\n",
    "html = browser.html\n",
    "news_soup = soup(html, 'html.parser')"
   ]
  },
  {
   "cell_type": "code",
   "execution_count": 51,
   "metadata": {},
   "outputs": [],
   "source": [
    "# Finding the article content\n",
    "content = news_soup.find_all('div', class_=\"list_text\")"
   ]
  },
  {
   "cell_type": "code",
   "execution_count": 52,
   "metadata": {},
   "outputs": [],
   "source": [
    "# List to store the data\n",
    "mars_news = []\n",
    "\n",
    "# Finding the article content\n",
    "articles = news_soup.find_all('div', class_=\"list_text\")\n",
    "\n",
    "# Loop through the rows to to obtain the title and preview text\n",
    "for article in articles:\n",
    "    news_article = {}\n",
    "    title = article.find(class_='content_title').text\n",
    "    preview = article.find(class_='article_teaser_body').text.strip()\n",
    "    \n",
    "    # Adding data to a dictionary\n",
    "    news_article[title] = preview\n",
    "\n",
    "    # Appending dictonary to a list \n",
    "    mars_news.append(news_article)\n",
    "    \n",
    "    # QUESTION - they had 'title' and 'preview' showng in their example - is this required?  If so how do you do that?\n",
    "    # QUESTIOn I'm getting u2019 and other bits coming up where there should be a '\n",
    "    # QUESTION - should we do it for all pages or just the first page?\n",
    "    "
   ]
  },
  {
   "cell_type": "code",
   "execution_count": 54,
   "metadata": {},
   "outputs": [
    {
     "data": {
      "text/plain": [
       "[{\"NASA's MAVEN Observes Martian Light Show Caused by Major Solar Storm\": 'For the first time in its eight years orbiting Mars, NASA’s MAVEN mission witnessed two different types of ultraviolet aurorae simultaneously, the result of solar storms that began on Aug. 27.'},\n",
       " {\"NASA Prepares to Say 'Farewell' to InSight Spacecraft\": 'A closer look at what goes into wrapping up the mission as the spacecraft’s power supply continues to dwindle.'},\n",
       " {'NASA and ESA Agree on Next Steps to Return Mars Samples to Earth': 'The agency’s Perseverance rover will establish the first sample depot on Mars.'},\n",
       " {\"NASA's InSight Lander Detects Stunning Meteoroid Impact on Mars\": 'The agency’s lander felt the ground shake during the impact while cameras aboard the Mars Reconnaissance Orbiter spotted the yawning new crater from space.'},\n",
       " {'NASA To Host Briefing on InSight, Mars Reconnaissance Orbiter Findings': 'Scientists from two Mars missions will discuss how they combined images and data for a major finding on the Red Planet.'},\n",
       " {'Why NASA Is Trying To Crash Land on Mars': 'Like a car’s crumple zone, the experimental SHIELD lander is designed to absorb a hard impact.'},\n",
       " {'Curiosity Mars Rover Reaches Long-Awaited Salty Region': 'After years of climbing, the Mars rover has arrived at a special region believed to have formed as Mars’ climate was drying.'},\n",
       " {'Mars Mission Shields Up for Tests': 'Protecting Mars Sample Return spacecraft from micrometeorites requires high-caliber work.'},\n",
       " {\"NASA's InSight Waits Out Dust Storm\": 'InSight’s team is taking steps to help the solar-powered lander continue operating for as long as possible.'},\n",
       " {\"NASA's InSight 'Hears' Its First Meteoroid Impacts on Mars\": 'The Mars lander’s seismometer has picked up vibrations from four separate impacts in the past two years.'},\n",
       " {\"NASA's Perseverance Rover Investigates Geologically Rich Mars Terrain\": 'The latest findings provide greater detail on a region of the Red Planet that has a watery past and is yielding promising samples for the NASA-ESA Mars Sample Return campaign.'},\n",
       " {'NASA to Host Briefing on Perseverance Mars Rover Mission Operations': 'Members of the mission will discuss the rover’s activities as it gathers samples in an ancient river delta.'},\n",
       " {\"NASA's Perseverance Makes New Discoveries in Mars' Jezero Crater\": 'The rover found that Jezero Crater’s floor is made up of volcanic rocks that have interacted with water.'},\n",
       " {\"10 Years Since Landing, NASA's Curiosity Mars Rover Still Has Drive\": 'Despite signs of wear, the intrepid spacecraft is about to start an exciting new chapter of its mission as it climbs a Martian mountain.'},\n",
       " {\"SAM's Top 5 Discoveries Aboard NASA's Curiosity Rover at Mars\": '“Selfie” of the Curiosity rover with inset showing the SAM instrument prior to installation on the rover.'}]"
      ]
     },
     "execution_count": 54,
     "metadata": {},
     "output_type": "execute_result"
    }
   ],
   "source": [
    "mars_news"
   ]
  },
  {
   "cell_type": "code",
   "execution_count": 55,
   "metadata": {},
   "outputs": [],
   "source": [
    "# Save to JSON file\n",
    "\n",
    "with open(\"mars_news.json\", \"w\") as final:\n",
    "    json.dump(mars_news, final, indent=4)\n",
    "\n",
    "\n",
    "# QUSTION  - is this how the json file should look?\n",
    " # QUESTIOn I'm getting u2019 and other bits coming up where there should be a '"
   ]
  }
 ],
 "metadata": {
  "kernelspec": {
   "display_name": "PythonData",
   "language": "python",
   "name": "python3"
  },
  "language_info": {
   "codemirror_mode": {
    "name": "ipython",
    "version": 3
   },
   "file_extension": ".py",
   "mimetype": "text/x-python",
   "name": "python",
   "nbconvert_exporter": "python",
   "pygments_lexer": "ipython3",
   "version": "3.7.7"
  },
  "orig_nbformat": 4,
  "vscode": {
   "interpreter": {
    "hash": "36caff6c9c02ddf9c80bf3a47b52dcc003663f4f02b1c64a29eab689b8ef0ba0"
   }
  }
 },
 "nbformat": 4,
 "nbformat_minor": 2
}
